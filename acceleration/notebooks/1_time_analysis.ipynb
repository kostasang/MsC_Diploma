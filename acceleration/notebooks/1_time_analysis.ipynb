{
 "cells": [
  {
   "cell_type": "markdown",
   "metadata": {},
   "source": [
    "# Time Analysis\n",
    "\n",
    "In this notebook an analysis of time duration of each step in the inference process of the model is performed. In more detail, between two succesive frames there are two main computation stages:\n",
    "\n",
    "1. Calculation of the action through neural network's forward pass\n",
    "2. Rendering the next frames after feeding the environment with the calculated action\n",
    "\n",
    "We desire to accelerate the forward pass of the model in order to achieve more frames per second."
   ]
  },
  {
   "cell_type": "code",
   "execution_count": 1,
   "metadata": {},
   "outputs": [
    {
     "name": "stderr",
     "output_type": "stream",
     "text": [
      "DEBUG:commons:version: 6.2.4 *\n",
      "DEBUG:typing:version: 6.2.3\n",
      "DEBUG:duckietown_world:duckietown-world version 6.2.38 path /home/kanagnostopoulos/anaconda3/envs/rl/lib/python3.8/site-packages\n",
      "DEBUG:geometry:PyGeometry-z6 version 2.1.4 path /home/kanagnostopoulos/anaconda3/envs/rl/lib/python3.8/site-packages\n",
      "DEBUG:aido_schemas:aido-protocols version 6.0.59 path /home/kanagnostopoulos/anaconda3/envs/rl/lib/python3.8/site-packages\n",
      "DEBUG:nodes:version 6.2.13 path /home/kanagnostopoulos/anaconda3/envs/rl/lib/python3.8/site-packages pyparsing 3.0.6\n",
      "DEBUG:gym-duckietown:gym-duckietown version 6.1.31 path /home/kanagnostopoulos/Desktop/ReinforcementLearning/gym-duckietown/src\n",
      "\n"
     ]
    },
    {
     "name": "stdout",
     "output_type": "stream",
     "text": [
      "{'audio': ('xaudio2', 'directsound', 'openal', 'pulse', 'silent'), 'debug_font': False, 'debug_gl': True, 'debug_gl_trace': False, 'debug_gl_trace_args': False, 'debug_graphics_batch': False, 'debug_lib': False, 'debug_media': False, 'debug_texture': False, 'debug_trace': False, 'debug_trace_args': False, 'debug_trace_depth': 1, 'debug_trace_flush': True, 'debug_win32': False, 'debug_x11': False, 'graphics_vbo': True, 'shadow_window': True, 'vsync': None, 'xsync': True, 'xlib_fullscreen_override_redirect': False, 'darwin_cocoa': True, 'search_local_libs': True, 'headless': False, 'headless_device': 0}\n"
     ]
    }
   ],
   "source": [
    "import sys\n",
    "sys.path.append('../src')\n",
    "sys.path.append('../../learning/src')\n",
    "\n",
    "import time, torch, logging, joblib\n",
    "from torchvision import transforms as T\n",
    "from torch.nn import functional as F \n",
    "from gym_duckietown.simulator import Simulator\n",
    "from big_experiment_utils.wrappers import DiscreteWrapper, DtRewardWrapper\n",
    "from collections import deque\n",
    "\n",
    "from utilities import Timer\n",
    "\n",
    "logger = logging.getLogger('gym-duckietown')\n",
    "logger.setLevel(logging.WARNING)"
   ]
  },
  {
   "cell_type": "markdown",
   "metadata": {},
   "source": [
    "Initially, we create the desired environment for testing and we apply that necessary wrappers to transform the action space of the environment.\n",
    "\n",
    "Furthermore, it is necessary to isolator the actor as it is the only part of the model necessary for deciding the actions at inference time."
   ]
  },
  {
   "cell_type": "code",
   "execution_count": 2,
   "metadata": {},
   "outputs": [
    {
     "name": "stderr",
     "output_type": "stream",
     "text": [
      "INFO:duckietown_world: data: /home/kanagnostopoulos/anaconda3/envs/rl/lib/python3.8/site-packages/duckietown_world/data\n"
     ]
    }
   ],
   "source": [
    "env = Simulator(\n",
    "    seed=None,  # random seed\n",
    "    map_name=\"loop_empty\",\n",
    "    max_steps=3_500,  \n",
    "    domain_rand=False,\n",
    "    distortion=False,\n",
    "    camera_width=80,\n",
    "    camera_height=60,\n",
    "    draw_curve=True,\n",
    "    accept_start_angle_deg=4\n",
    ")\n",
    "env = DtRewardWrapper(env)\n",
    "env = DiscreteWrapper(env)\n",
    "\n",
    "timer1 = Timer()\n",
    "timer2 = Timer()\n",
    "timer3 = Timer()\n",
    "timer4 = Timer()\n",
    "\n",
    "model = joblib.load('../models/duckieTown_PPO_simple.joblib')\n",
    "\n",
    "\n",
    "class Actor(torch.nn.Module):\n",
    "    #Implements the inference of only the actor model coming from the acotr critic object\n",
    "\n",
    "    def __init__(self, \n",
    "                actor_critic_model,\n",
    "                device = 'cpu'):\n",
    "        #Initilizes actor by copying necesseary layers\n",
    "        super(Actor, self).__init__()\n",
    "        self.device = device\n",
    "        self.conv_core = actor_critic_model.conv_core.to(device)\n",
    "        self.actor_head = actor_critic_model.actor_head.to(device)\n",
    "        self.transform = actor_critic_model.transform\n",
    "\n",
    "    def forward(self, x):\n",
    "        #Implements forward pass of model\n",
    "        x = torch.permute(x, (0, 3, 1, 2))  # Place channel axis in correct position\n",
    "        x = self.transform(x)               # Apply transform\n",
    "        x = T.functional.crop(x, top=20, left=0, height=40, width=80)\n",
    "        x = x.to(device=self.device)\n",
    "        visual_repr = self.conv_core(x).squeeze(-1).squeeze(-1)  \n",
    "        dist = F.log_softmax(self.actor_head(visual_repr), dim=1).to('cpu')\n",
    "        dist = torch.distributions.Categorical(logits=dist)\n",
    "        return dist.sample().cpu().numpy()[0]\n",
    "\n",
    "model = Actor(model)"
   ]
  },
  {
   "cell_type": "markdown",
   "metadata": {},
   "source": [
    "## Inference loop"
   ]
  },
  {
   "cell_type": "code",
   "execution_count": 3,
   "metadata": {},
   "outputs": [
    {
     "name": "stdout",
     "output_type": "stream",
     "text": [
      "Neural network average forward pass duration: 0.00194s\n",
      "Environment step method average duration: 0.01339s\n",
      "Environment rendering average duration: 0.01833s\n",
      "Total average per frame: 0.03391\n",
      "Frames per second (FPS): 29.48729447176661\n",
      "Number of frames in test: 1977\n"
     ]
    }
   ],
   "source": [
    "frame = env.reset()\n",
    "stacked_frames = deque([torch.zeros(size=frame.shape).unsqueeze(0)]*5,\n",
    "                        maxlen=5)\n",
    "env.render()\n",
    "done = False\n",
    "total_reward = 0\n",
    "total_frames = 0\n",
    "while not done:\n",
    "    timer4.start()\n",
    "    frame = torch.FloatTensor(frame).unsqueeze(0)\n",
    "    stacked_frames.append(frame)\n",
    "    state = torch.cat(tuple(stacked_frames), dim=-1)\n",
    "    \n",
    "    timer1.start()\n",
    "    action = model.forward(state)\n",
    "    timer1.stop()\n",
    "\n",
    "    timer2.start()\n",
    "    next_frame, reward, done, _ = env.step(action)\n",
    "    timer2.stop()\n",
    "\n",
    "    timer3.start()\n",
    "    env.render()\n",
    "    timer3.stop()\n",
    "    \n",
    "    frame = next_frame\n",
    "    total_reward += reward\n",
    "    total_frames += 1\n",
    "    timer4.stop()\n",
    "env.close()\n",
    "\n",
    "print(f'Neural network average forward pass duration: {timer1.get_average_time():.5f}s')\n",
    "print(f'Environment step method average duration: {timer2.get_average_time():.5f}s')\n",
    "print(f'Environment rendering average duration: {timer3.get_average_time():.5f}s')\n",
    "print(f'Total average per frame: {timer4.get_average_time():.5f}')\n",
    "print(f'Frames per second (FPS): {1/timer4.get_average_time()}')\n",
    "print(f'Number of frames in test: {timer4.get_laps()}')"
   ]
  },
  {
   "cell_type": "code",
   "execution_count": 7,
   "metadata": {},
   "outputs": [
    {
     "data": {
      "image/png": "[encoded data removed]",
      "text/plain": [
       "<Figure size 432x288 with 1 Axes>"
      ]
     },
     "metadata": {
      "needs_background": "light"
     },
     "output_type": "display_data"
    }
   ],
   "source": [
    "import matplotlib.pyplot as plt\n",
    "\n",
    "plt.figure()\n",
    "plt.bar(x=[1,2,3], height=[timer1.get_average_time()*1000, timer2.get_average_time()*1000, timer3.get_average_time()*1000])\n",
    "plt.ylabel('Duration (ms)')\n",
    "plt.xticks([1,2,3], ['Forward pass', 'Step method', 'Rendering'], rotation=30)\n",
    "plt.title('Duration of each process')\n",
    "plt.grid()\n",
    "plt.savefig('../results/time_barplot', dpi=500)\n",
    "plt.show()"
   ]
  },
  {
   "cell_type": "markdown",
   "metadata": {},
   "source": [
    "As last step, we save the actor model to .pt form for later use."
   ]
  },
  {
   "cell_type": "code",
   "execution_count": 5,
   "metadata": {},
   "outputs": [],
   "source": [
    "torch.save(model, '../models/actor.pt')"
   ]
  }
 ],
 "metadata": {
  "interpreter": {
   "hash": "3610e89fcaccca94148cc623b437ccbe8939fe3b9dfaf59442cb77d8f967dd34"
  },
  "kernelspec": {
   "display_name": "Python 3 (ipykernel)",
   "language": "python",
   "name": "python3"
  },
  "language_info": {
   "codemirror_mode": {
    "name": "ipython",
    "version": 3
   },
   "file_extension": ".py",
   "mimetype": "text/x-python",
   "name": "python",
   "nbconvert_exporter": "python",
   "pygments_lexer": "ipython3",
   "version": "3.8.0"
  }
 },
 "nbformat": 4,
 "nbformat_minor": 2
}

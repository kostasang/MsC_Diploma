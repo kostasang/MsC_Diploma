{
 "cells": [
  {
   "cell_type": "markdown",
   "id": "15d0b6f7",
   "metadata": {},
   "source": [
    "# Acceleration Benchmarks"
   ]
  },
  {
   "cell_type": "code",
   "execution_count": 24,
   "id": "df6949cf",
   "metadata": {},
   "outputs": [],
   "source": [
    "import sys\n",
    "sys.path.append('../src')\n",
    "sys.path.append('../../learning/src')\n",
    "\n",
    "import onnxruntime, torch, logging, joblib, numpy as np\n",
    "from torchvision import transforms as T\n",
    "from torch.nn import functional as F \n",
    "from utilities import create_environment, time_inference, collect_states\n",
    "from collections import deque\n",
    "\n",
    "logger = logging.getLogger('gym-duckietown')\n",
    "logger.setLevel(logging.WARNING)\n",
    "\n",
    "env = create_environment()\n",
    "states = collect_states(env=env, \n",
    "                        golden_model_path='../models/duckieTown_PPO_simple.joblib',\n",
    "                        max_steps=3500)"
   ]
  },
  {
   "cell_type": "markdown",
   "id": "f73e74eb",
   "metadata": {},
   "source": [
    "## Time Pytorch models"
   ]
  },
  {
   "cell_type": "code",
   "execution_count": 47,
   "id": "b84d5a1d",
   "metadata": {},
   "outputs": [],
   "source": [
    "class Actor(torch.nn.Module):\n",
    "    #Implements the inference of only the actor model coming from the acotr critic object\n",
    "\n",
    "    def __init__(self, \n",
    "                actor_critic_model,\n",
    "                device = 'cpu'):\n",
    "        #Initilizes actor by copying necesseary layers\n",
    "        super(Actor, self).__init__()\n",
    "        self.device = device\n",
    "        self.conv_core = actor_critic_model.conv_core.to(device)\n",
    "        self.actor_head = actor_critic_model.actor_head.to(device)\n",
    "        self.transform = actor_critic_model.transform\n",
    "\n",
    "    def forward(self, x):\n",
    "        #Implements forward pass of model \n",
    "        x = x.to(device=self.device)\n",
    "        x = torch.permute(x, (0, 3, 1, 2))   # Place channel axis in correct position\n",
    "        #x = self.transform(x)               # Apply transform\n",
    "        x = x / 255\n",
    "        #x = T.functional.crop(x, top=20, left=0, height=40, width=80)\n",
    "        x = x[:,:,20:,:]\n",
    "        #x = x.to(device=self.device)\n",
    "        visual_repr = self.conv_core(x).squeeze(-1).squeeze(-1)  \n",
    "        dist = F.log_softmax(self.actor_head(visual_repr), dim=1)\n",
    "        return dist\n",
    "    \n",
    "    def infer_action(self, x):\n",
    "        # Utilizes torch distributions to return an action\n",
    "        dist_probs = self.forward(x)\n",
    "        dist = torch.distributions.Categorical(logits=dist_probs)\n",
    "        return dist.sample().cpu().numpy()[0]"
   ]
  },
  {
   "cell_type": "code",
   "execution_count": 48,
   "id": "17407bca",
   "metadata": {},
   "outputs": [
    {
     "name": "stdout",
     "output_type": "stream",
     "text": [
      "Average inference time 1.1214316728790956ms calculated on 3500 frames\n"
     ]
    }
   ],
   "source": [
    "model = Actor(actor_critic_model=joblib.load('../models/duckieTown_PPO_simple.joblib'), device='cpu')\n",
    "\n",
    "avg_duration, n_frames = time_inference(states=states, model=model)"
   ]
  },
  {
   "cell_type": "code",
   "execution_count": 49,
   "id": "96e0848f",
   "metadata": {},
   "outputs": [
    {
     "name": "stdout",
     "output_type": "stream",
     "text": [
      "Average inference time 1.5132223806244187ms calculated on 3500 frames\n"
     ]
    }
   ],
   "source": [
    "model = Actor(actor_critic_model=joblib.load('../models/duckieTown_PPO_simple.joblib'), device='cuda')\n",
    "\n",
    "avg_duration, n_frames = time_inference(states=states, model=model)"
   ]
  },
  {
   "cell_type": "markdown",
   "id": "265c5b01",
   "metadata": {},
   "source": [
    "## Time ONNX models"
   ]
  },
  {
   "cell_type": "code",
   "execution_count": 50,
   "id": "607c1f60",
   "metadata": {},
   "outputs": [],
   "source": [
    "class ONNXActor():\n",
    "    # Implements actor using ONNX runtime\n",
    "    \n",
    "    def __init__(self, onnx_path, providers):\n",
    "        # Initiliaze model\n",
    "        self.ort_session = onnxruntime.InferenceSession(onnx_path, providers=providers)\n",
    "    \n",
    "    def forward(self, x):\n",
    "        # Implements forward pass of model\n",
    "        output = self.ort_session.run(None, {'input' : x.numpy().astype(np.float32)})[0]\n",
    "        return torch.Tensor(output)\n",
    "    \n",
    "    def infer_action(self, x):\n",
    "        # Utilizes torch distributions to return an action\n",
    "        dist_probs = self.forward(x)\n",
    "        dist = torch.distributions.Categorical(logits=dist_probs)\n",
    "        return dist.sample().numpy()[0]"
   ]
  },
  {
   "cell_type": "code",
   "execution_count": 51,
   "id": "87f53195",
   "metadata": {},
   "outputs": [
    {
     "name": "stdout",
     "output_type": "stream",
     "text": [
      "Average inference time 0.42981160960126935ms calculated on 3500 frames\n"
     ]
    }
   ],
   "source": [
    "model = ONNXActor(onnx_path='../models/actor.onnx', providers=['CPUExecutionProvider'])\n",
    "\n",
    "avg_duration, n_frames = time_inference(states=states, model=model)"
   ]
  },
  {
   "cell_type": "code",
   "execution_count": 52,
   "id": "4f1ba63f",
   "metadata": {},
   "outputs": [
    {
     "name": "stderr",
     "output_type": "stream",
     "text": [
      "2022-03-30 00:20:49.511757040 [W:onnxruntime:Default, onnxruntime_pybind_state.cc:535 CreateExecutionProviderInstance] Failed to create CUDAExecutionProvider. Please reference https://onnxruntime.ai/docs/reference/execution-providers/CUDA-ExecutionProvider.html#requirements to ensure all dependencies are met.\n"
     ]
    },
    {
     "name": "stdout",
     "output_type": "stream",
     "text": [
      "Average inference time 0.425264579177435ms calculated on 3500 frames\n"
     ]
    }
   ],
   "source": [
    "model = ONNXActor(onnx_path='../models/actor.onnx', providers=['CUDAExecutionProvider'])\n",
    "\n",
    "avg_duration, n_frames = time_inference(states=states, model=model)"
   ]
  },
  {
   "cell_type": "code",
   "execution_count": null,
   "id": "43d494dc",
   "metadata": {},
   "outputs": [],
   "source": []
  }
 ],
 "metadata": {
  "interpreter": {
   "hash": "30295c5bec572e859485b1ffa5e89b8b3e2022ef6e3e739c1ac40f143a557caf"
  },
  "kernelspec": {
   "display_name": "Python 3 (ipykernel)",
   "language": "python",
   "name": "python3"
  },
  "language_info": {
   "codemirror_mode": {
    "name": "ipython",
    "version": 3
   },
   "file_extension": ".py",
   "mimetype": "text/x-python",
   "name": "python",
   "nbconvert_exporter": "python",
   "pygments_lexer": "ipython3",
   "version": "3.8.0"
  }
 },
 "nbformat": 4,
 "nbformat_minor": 5
}

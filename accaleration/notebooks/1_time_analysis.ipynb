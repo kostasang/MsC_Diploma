{
 "cells": [
  {
   "cell_type": "markdown",
   "metadata": {},
   "source": [
    "# Time Analysis\n",
    "\n",
    "In this notebook an analysis of time duration of each step in the inference process of the model is performed. In more detail, between two succesive frames there are two main computation stages:\n",
    "\n",
    "1. Calculation of the action through neural network's forward pass\n",
    "2. Rendering the next frames after feeding the environment with the calculated action\n",
    "\n",
    "We desire to accelerate the forward pass of the model in order to achieve more frames per second."
   ]
  },
  {
   "cell_type": "code",
   "execution_count": 9,
   "metadata": {},
   "outputs": [],
   "source": [
    "import sys\n",
    "sys.path.append('../src')\n",
    "sys.path.append('../../learning/src')\n",
    "\n",
    "import time, torch, logging\n",
    "from gym_duckietown.simulator import Simulator\n",
    "from big_experiment_utils.wrappers import DiscreteWrapper, DtRewardWrapper\n",
    "from collections import deque\n",
    "\n",
    "logger = logging.getLogger('gym-duckietown')\n",
    "logger.setLevel(logging.WARNING)\n",
    "\n",
    "class Timer():\n",
    "    \"\"\"\n",
    "    Class that implements a timer fr calculating intervals\n",
    "    \"\"\"\n",
    "\n",
    "    def __init__(self) :\n",
    "        \"\"\"Initilize times\"\"\"\n",
    "        self.t0 = None\n",
    "        self.total_time = 0\n",
    "        self.n_laps = 0\n",
    "    \n",
    "    def start(self):\n",
    "        \"\"\"\"Start timer\"\"\"\n",
    "        self.n_laps += 1\n",
    "        self.t0 = time.perf_counter()\n",
    "    \n",
    "    def stop(self):\n",
    "        \"\"\"Stops timer\"\"\"\n",
    "        self.total_time += (time.perf_counter() - self.t0)\n",
    "        self.n_laps += 1\n",
    "\n",
    "    def reset(self):\n",
    "        \"\"\"Resets timer\"\"\"\n",
    "        self.t0 = None\n",
    "        self.total_time = 0\n",
    "        self.n_laps = 0\n",
    "    \n",
    "    def get_average_time(self):\n",
    "        \"\"\"Returns average lap time\"\"\"\n",
    "        return self.total_time / self.n_laps"
   ]
  },
  {
   "cell_type": "markdown",
   "metadata": {},
   "source": [
    "Initially, we create the desired environment for testing and we apply that necessary wrappers to transform the action space of the environment."
   ]
  },
  {
   "cell_type": "code",
   "execution_count": null,
   "metadata": {},
   "outputs": [],
   "source": [
    "env = Simulator(\n",
    "    seed=None,  # random seed\n",
    "    map_name=\"loop_empty\",\n",
    "    max_steps=3_500,  \n",
    "    domain_rand=False,\n",
    "    distortion=False,\n",
    "    camera_width=80,\n",
    "    camera_height=60,\n",
    "    draw_curve=True,\n",
    "    accept_start_angle_deg=4\n",
    ")\n",
    "env = DtRewardWrapper(env)\n",
    "env = DiscreteWrapper(env)\n",
    "\n",
    "timer1 = Timer()\n",
    "timer2 = Timer()"
   ]
  },
  {
   "cell_type": "code",
   "execution_count": null,
   "metadata": {},
   "outputs": [],
   "source": [
    "frame = env.reset()\n",
    "stacked_frames = deque([torch.zeros(size=frame.shape).unsqueeze(0)]*5,\n",
    "                        maxlen=5)\n",
    "if vis: env.render()\n",
    "done = False\n",
    "total_reward = 0\n",
    "total_frames = 0\n",
    "while not done:\n",
    "    frame = torch.FloatTensor(frame).unsqueeze(0)\n",
    "    stacked_frames.append(frame)\n",
    "    state = torch.cat(tuple(stacked_frames), dim=-1)\n",
    "    action = model.infer_action(state)\n",
    "    next_frame, reward, done, _ = env.step(action)\n",
    "    frame = next_frame\n",
    "    if vis: env.render()\n",
    "    total_reward += reward\n",
    "    total_frames += 1\n",
    "env.close()\n",
    "return total_reward, total_frames"
   ]
  }
 ],
 "metadata": {
  "interpreter": {
   "hash": "3610e89fcaccca94148cc623b437ccbe8939fe3b9dfaf59442cb77d8f967dd34"
  },
  "kernelspec": {
   "display_name": "Python 3.8.0 ('rl')",
   "language": "python",
   "name": "python3"
  },
  "language_info": {
   "codemirror_mode": {
    "name": "ipython",
    "version": 3
   },
   "file_extension": ".py",
   "mimetype": "text/x-python",
   "name": "python",
   "nbconvert_exporter": "python",
   "pygments_lexer": "ipython3",
   "version": "3.8.0"
  },
  "orig_nbformat": 4
 },
 "nbformat": 4,
 "nbformat_minor": 2
}
